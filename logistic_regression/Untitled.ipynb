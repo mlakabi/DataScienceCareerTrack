{
 "cells": [
  {
   "cell_type": "code",
   "execution_count": 3,
   "metadata": {},
   "outputs": [
    {
     "name": "stdout",
     "output_type": "stream",
     "text": [
      "FeaturesCLEAR FILTERSTaverna Aventine4.2   (97) · $$ · BarStylish bar with a popular happy hour2929, 582 Washington StOpens at 11:00 AMMore infoAzúcar Lounge4.2   (216) · $$ · LoungeLatin-inspired cocktails & street snacks299 9th StOpens at 2:30 PMMore infoMaybeck's4.5   (146) · $$ · New AmericanHip bistro for Californian fare & drinks3213 Scott StOpens at 4:30 PMMore infoMore places\n",
      "-----\n",
      "14 of SF's Hottest New Happy Hours - Eater SFhttps://sf.eater.com/.../best-new-happy-hours-san-francisco-oakland-berkeleyCachedOct 18, 2018 ... The moody Tenderloin jazz club has added a happy hour to its set list, with bar snacks like oysters ($2.50), duck fat fries ($5) and discounted beers and wines. It goes Monday through Friday from 5:30 p.m.-7 p.m. Also Featured in: SF's Hottest Cocktail Bars, November 2018.\n",
      "-----\n",
      "Best Happy Hours in San Francisco to Hit in 2017 - Thrillisthttps://www.thrillist.com/.../san-francisco/best-new-happy-hours-in-sfCachedSimilarJan 20, 2017 ... The 25 Best Happy Hours in San Francisco. 25 Lusk. SoMa. When: Mon-Sat, 5-7pm. Bar Crudo. Divisadero Corridor. When: Every day from 5 to 6:30pm. Bellota. SoMa. When: Daily from 4-6pm. Black Cat. Tenderloin. When: Every day from 5:30-7:30pm. Capo's. North Beach. The Cavalier. SoMa. Cockscomb. SoMa. Corridor. Mid-Market.\n",
      "-----\n",
      "Yelp says these are the top happy hour spots in San Francisco ...https://www.sfgate.com/.../best-happy-hour-san-francisco-bay-area- 12732362.phpCachedMar 6, 2018 ... Most things in San Francisco aren't cheap, but luckily for you, happy hour is one \n",
      "of the exceptions. Yelp created a list of the best happy hours ...\n",
      "-----\n",
      "Best Happy Hour in San Francisco, CA - Last Updated November ...https://www.yelp.com/search?...happy+hour...San+Francisco%2C...CachedSimilarReviews on Happy Hour in San Francisco, CA - Rooftop 25, Fool's Errand, Cafe \n",
      "Envy, Curio, Hotel San Francisco, barvale, Fifth Arrow, Barbarossa Lounge, ...\n",
      "-----\n",
      "18 Awesome Happy Hours in SF That You Probably Haven't Been to ...https://www.eventbrite.com/.../san-francisco/18-awesome-happy-hours-in-sf/CachedMay 30, 2017 ... 18 Awesome Happy Hours in SF That You Probably Haven't Been to Yet. Alba Ray's. MISSION. When: Weekdays from 5:30 to 6:30 p.m. Babu Ji. MISSION. When: Monday through Wednesday from 5:30 to 7 p.m. Bellota. SOMA. Black Cat. TENDERLOIN. The Cavalier. SOMA. City Counter. FINANCIAL DISTRICT. Coin-Op Game Room. SOMA. ...\n",
      "-----\n",
      "The 15 Best Places with a Happy Hour in San Francisco - Foursquarehttps://foursquare.com/top.../san-francisco/best-places-happy-hourCachedSimilar4 days ago ... Dave Zissou: this place offers just some of the best views from town, its outdoorsy \n",
      "which is a plus, when the weather permits, also the Happy ...\n",
      "-----\n",
      "San Francisco Happy Hour: Ten of My Favorites - SF Tourism Tipshttps://www.sftourismtips.com/san-francisco-happy-hour.htmlCachedDiscover ten of the best places to go for San Francisco Happy Hour specials. \n",
      "Many offer great deals on drinks and food items as well as a fun atmosphere.\n",
      "-----\n",
      "San Francisco Happy Hour Guide - San Francisco's City Guidehttps://www.sfstation.com/happy-hour/CachedHappy Hour map, find a Happy Hour in SF, Read Reviews of bars, restaurants \n",
      "and more.\n",
      "-----\n",
      "The Best Happy Hours In SF - San Francisco - The Infatuationhttps://www.theinfatuation.com/san-francisco/.../happy-hour-san-franciscoCachedSimilarMar 21, 2016 ... A guide to all the happy hours in San Francisco worth knowing about.\n",
      "-----\n",
      "San Francisco's Top 10 Happy Hours | WhereTravelerhttps://www.wheretraveler.com/san-francisco/.../san-franciscos-top-10-happy- hoursCachedSep 9, 2014 ... Top 10 bars with the best happy hours in San Francisco, including cocktails, beer\n",
      ", wine and food.\n",
      "-----\n"
     ]
    }
   ],
   "source": [
    "import urllib\n",
    "from bs4 import BeautifulSoup\n",
    "import requests\n",
    "import webbrowser\n",
    "text = 'Happy Hour San Francisco'\n",
    "text = urllib.parse.quote_plus(text)\n",
    "url = 'https://google.com/search?q=' + text\n",
    "response = requests.get(url)\n",
    "with open('output.html', 'wb') as f:\n",
    "    f.write(response.content)\n",
    "webbrowser.open('output.html')\n",
    "soup = BeautifulSoup(response.text, 'lxml')\n",
    "for g in soup.find_all(class_='g'):\n",
    "    print(g.text)\n",
    "    print('-----')"
   ]
  },
  {
   "cell_type": "code",
   "execution_count": null,
   "metadata": {},
   "outputs": [],
   "source": []
  }
 ],
 "metadata": {
  "kernelspec": {
   "display_name": "Python 3",
   "language": "python",
   "name": "python3"
  },
  "language_info": {
   "codemirror_mode": {
    "name": "ipython",
    "version": 3
   },
   "file_extension": ".py",
   "mimetype": "text/x-python",
   "name": "python",
   "nbconvert_exporter": "python",
   "pygments_lexer": "ipython3",
   "version": "3.6.5"
  }
 },
 "nbformat": 4,
 "nbformat_minor": 2
}
